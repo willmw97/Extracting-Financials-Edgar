{
 "metadata": {
  "language_info": {
   "codemirror_mode": {
    "name": "ipython",
    "version": 3
   },
   "file_extension": ".py",
   "mimetype": "text/x-python",
   "name": "python",
   "nbconvert_exporter": "python",
   "pygments_lexer": "ipython3",
   "version": "3.8.5-final"
  },
  "orig_nbformat": 2,
  "kernelspec": {
   "name": "python3",
   "display_name": "Python 3",
   "language": "python"
  }
 },
 "nbformat": 4,
 "nbformat_minor": 2,
 "cells": [
  {
   "cell_type": "code",
   "execution_count": 1,
   "metadata": {},
   "outputs": [],
   "source": [
    "import pandas as pd\n",
    "import numpy as np \n",
    "import requests\n",
    "from datetime import date\n",
    "import os \n",
    "import zipfile"
   ]
  },
  {
   "cell_type": "code",
   "execution_count": 2,
   "metadata": {},
   "outputs": [
    {
     "output_type": "execute_result",
     "data": {
      "text/plain": [
       "512526672"
      ]
     },
     "metadata": {},
     "execution_count": 2
    }
   ],
   "source": [
    "\n",
    "url = 'https://www.sec.gov/files/dera/data/financial-statement-and-notes-data-sets/2020q1_notes.zip'\n",
    "r = requests.get(url, allow_redirects=True)\n",
    "\n",
    "open('2020_01_notes.zip', 'wb').write(r.content)"
   ]
  },
  {
   "cell_type": "code",
   "execution_count": 5,
   "metadata": {},
   "outputs": [],
   "source": [
    "#Create Directory\n",
    "# Directory \n",
    "directory = \"2020_01_notes\"\n",
    "  \n",
    "# Parent Directory path \n",
    "#parent_dir = \"D:/Pycharm projects/\"\n",
    "  \n",
    "# Path \n",
    "path = os.path.join(os.getcwd(), directory) \n",
    "os.mkdir(path) \n",
    "\n",
    "newPath = os.path.join(os.getcwd(), '2020_01_notes.zip')\n",
    "with zipfile.ZipFile(newPath, 'r') as zip_ref:\n",
    "    zip_ref.extractall(path)"
   ]
  },
  {
   "cell_type": "code",
   "execution_count": 6,
   "metadata": {},
   "outputs": [
    {
     "output_type": "execute_result",
     "data": {
      "text/plain": [
       "'invest/2013'"
      ]
     },
     "metadata": {},
     "execution_count": 6
    }
   ],
   "source": [
    "#Read Text File\n",
    "dataset = pd.read_csv('2020_01_notes/num.tsv',delimiter=\"\\t\")\n",
    "dataset.iloc[0,2]"
   ]
  },
  {
   "cell_type": "code",
   "execution_count": 7,
   "metadata": {},
   "outputs": [
    {
     "output_type": "execute_result",
     "data": {
      "text/plain": [
       "                         adsh  \\\n",
       "0        0000014195-20-000008   \n",
       "1        0000014195-20-000008   \n",
       "2        0001304280-20-000007   \n",
       "3        0001304280-20-000007   \n",
       "4        0001304280-20-000007   \n",
       "...                       ...   \n",
       "8154864  0001493152-20-005442   \n",
       "8154865  0001493152-20-005442   \n",
       "8154866  0001493152-20-005442   \n",
       "8154867  0001493152-20-005442   \n",
       "8154868  0001493152-20-005442   \n",
       "\n",
       "                                                       tag  \\\n",
       "0                      DerivativeNonmonetaryNotionalAmount   \n",
       "1                      DerivativeNonmonetaryNotionalAmount   \n",
       "2                      DerivativeNonmonetaryNotionalAmount   \n",
       "3                      DerivativeNonmonetaryNotionalAmount   \n",
       "4                      DerivativeNonmonetaryNotionalAmount   \n",
       "...                                                    ...   \n",
       "8154864   WeightedAverageMarketSharePriceOnOptionExercised   \n",
       "8154865   WeightedAverageMarketSharePriceOnOptionExercised   \n",
       "8154866  WitholdingTaxesPaidOnEquitysettledRestrictedSh...   \n",
       "8154867  WitholdingTaxesPaidOnEquitysettledRestrictedSh...   \n",
       "8154868                           WorkingCapitalDeficiency   \n",
       "\n",
       "                      version     ddate  qtrs     uom  \\\n",
       "0                 invest/2013  20191231     0     Btu   \n",
       "1                 invest/2013  20190630     0     Btu   \n",
       "2                 invest/2013  20191231     0      kt   \n",
       "3                 invest/2013  20191231     0  gallon   \n",
       "4                 invest/2013  20190331     0  gallon   \n",
       "...                       ...       ...   ...     ...   \n",
       "8154864  0001493152-20-005442  20181231     0     CAD   \n",
       "8154865  0001493152-20-005442  20181231     0     CAD   \n",
       "8154866  0001493152-20-005442  20191231     4     CAD   \n",
       "8154867  0001493152-20-005442  20181231     4     CAD   \n",
       "8154868  0001493152-20-005442  20191231     0     CAD   \n",
       "\n",
       "                                       dimh  iprx      value footnote  \\\n",
       "0        0xd510cbd5aa429b08bfe3fe1c1a52fc18     0  4074000.0      NaN   \n",
       "1        0xd510cbd5aa429b08bfe3fe1c1a52fc18     0  7627000.0      NaN   \n",
       "2        0xf6fbed989c3bb9822b8e76af01fb70d8     0    28000.0      NaN   \n",
       "3        0xf2bc74768fad377f37b49e8a6500c39a     0  5000000.0      NaN   \n",
       "4        0xf2bc74768fad377f37b49e8a6500c39a     0  8000000.0      NaN   \n",
       "...                                     ...   ...        ...      ...   \n",
       "8154864  0xd15bdead07954509cbc79e0fe64dc14b     0        0.7      NaN   \n",
       "8154865  0x4b60fcbdeab7194b6dd435301ffb8ca8     0        1.0      NaN   \n",
       "8154866                          0x00000000     0    -9000.0      NaN   \n",
       "8154867                          0x00000000     0    -7000.0      NaN   \n",
       "8154868                          0x00000000     0   233000.0      NaN   \n",
       "\n",
       "         footlen  dimn coreg      durp  datp   dcml  \n",
       "0              0     1   NaN  0.000000   2.0     -3  \n",
       "1              0     1   NaN  0.000000   0.0     -3  \n",
       "2              0     3   NaN  0.000000   0.0     -3  \n",
       "3              0     3   NaN  0.000000   0.0  32767  \n",
       "4              0     3   NaN  0.000000   0.0  32767  \n",
       "...          ...   ...   ...       ...   ...    ...  \n",
       "8154864        0     1   NaN  0.000000   0.0  32767  \n",
       "8154865        0     1   NaN  0.000000   0.0  32767  \n",
       "8154866        0     0   NaN  0.010959   0.0     -3  \n",
       "8154867        0     0   NaN  0.010959   0.0     -3  \n",
       "8154868        0     0   NaN  0.000000   0.0     -3  \n",
       "\n",
       "[8154869 rows x 16 columns]"
      ],
      "text/html": "<div>\n<style scoped>\n    .dataframe tbody tr th:only-of-type {\n        vertical-align: middle;\n    }\n\n    .dataframe tbody tr th {\n        vertical-align: top;\n    }\n\n    .dataframe thead th {\n        text-align: right;\n    }\n</style>\n<table border=\"1\" class=\"dataframe\">\n  <thead>\n    <tr style=\"text-align: right;\">\n      <th></th>\n      <th>adsh</th>\n      <th>tag</th>\n      <th>version</th>\n      <th>ddate</th>\n      <th>qtrs</th>\n      <th>uom</th>\n      <th>dimh</th>\n      <th>iprx</th>\n      <th>value</th>\n      <th>footnote</th>\n      <th>footlen</th>\n      <th>dimn</th>\n      <th>coreg</th>\n      <th>durp</th>\n      <th>datp</th>\n      <th>dcml</th>\n    </tr>\n  </thead>\n  <tbody>\n    <tr>\n      <th>0</th>\n      <td>0000014195-20-000008</td>\n      <td>DerivativeNonmonetaryNotionalAmount</td>\n      <td>invest/2013</td>\n      <td>20191231</td>\n      <td>0</td>\n      <td>Btu</td>\n      <td>0xd510cbd5aa429b08bfe3fe1c1a52fc18</td>\n      <td>0</td>\n      <td>4074000.0</td>\n      <td>NaN</td>\n      <td>0</td>\n      <td>1</td>\n      <td>NaN</td>\n      <td>0.000000</td>\n      <td>2.0</td>\n      <td>-3</td>\n    </tr>\n    <tr>\n      <th>1</th>\n      <td>0000014195-20-000008</td>\n      <td>DerivativeNonmonetaryNotionalAmount</td>\n      <td>invest/2013</td>\n      <td>20190630</td>\n      <td>0</td>\n      <td>Btu</td>\n      <td>0xd510cbd5aa429b08bfe3fe1c1a52fc18</td>\n      <td>0</td>\n      <td>7627000.0</td>\n      <td>NaN</td>\n      <td>0</td>\n      <td>1</td>\n      <td>NaN</td>\n      <td>0.000000</td>\n      <td>0.0</td>\n      <td>-3</td>\n    </tr>\n    <tr>\n      <th>2</th>\n      <td>0001304280-20-000007</td>\n      <td>DerivativeNonmonetaryNotionalAmount</td>\n      <td>invest/2013</td>\n      <td>20191231</td>\n      <td>0</td>\n      <td>kt</td>\n      <td>0xf6fbed989c3bb9822b8e76af01fb70d8</td>\n      <td>0</td>\n      <td>28000.0</td>\n      <td>NaN</td>\n      <td>0</td>\n      <td>3</td>\n      <td>NaN</td>\n      <td>0.000000</td>\n      <td>0.0</td>\n      <td>-3</td>\n    </tr>\n    <tr>\n      <th>3</th>\n      <td>0001304280-20-000007</td>\n      <td>DerivativeNonmonetaryNotionalAmount</td>\n      <td>invest/2013</td>\n      <td>20191231</td>\n      <td>0</td>\n      <td>gallon</td>\n      <td>0xf2bc74768fad377f37b49e8a6500c39a</td>\n      <td>0</td>\n      <td>5000000.0</td>\n      <td>NaN</td>\n      <td>0</td>\n      <td>3</td>\n      <td>NaN</td>\n      <td>0.000000</td>\n      <td>0.0</td>\n      <td>32767</td>\n    </tr>\n    <tr>\n      <th>4</th>\n      <td>0001304280-20-000007</td>\n      <td>DerivativeNonmonetaryNotionalAmount</td>\n      <td>invest/2013</td>\n      <td>20190331</td>\n      <td>0</td>\n      <td>gallon</td>\n      <td>0xf2bc74768fad377f37b49e8a6500c39a</td>\n      <td>0</td>\n      <td>8000000.0</td>\n      <td>NaN</td>\n      <td>0</td>\n      <td>3</td>\n      <td>NaN</td>\n      <td>0.000000</td>\n      <td>0.0</td>\n      <td>32767</td>\n    </tr>\n    <tr>\n      <th>...</th>\n      <td>...</td>\n      <td>...</td>\n      <td>...</td>\n      <td>...</td>\n      <td>...</td>\n      <td>...</td>\n      <td>...</td>\n      <td>...</td>\n      <td>...</td>\n      <td>...</td>\n      <td>...</td>\n      <td>...</td>\n      <td>...</td>\n      <td>...</td>\n      <td>...</td>\n      <td>...</td>\n    </tr>\n    <tr>\n      <th>8154864</th>\n      <td>0001493152-20-005442</td>\n      <td>WeightedAverageMarketSharePriceOnOptionExercised</td>\n      <td>0001493152-20-005442</td>\n      <td>20181231</td>\n      <td>0</td>\n      <td>CAD</td>\n      <td>0xd15bdead07954509cbc79e0fe64dc14b</td>\n      <td>0</td>\n      <td>0.7</td>\n      <td>NaN</td>\n      <td>0</td>\n      <td>1</td>\n      <td>NaN</td>\n      <td>0.000000</td>\n      <td>0.0</td>\n      <td>32767</td>\n    </tr>\n    <tr>\n      <th>8154865</th>\n      <td>0001493152-20-005442</td>\n      <td>WeightedAverageMarketSharePriceOnOptionExercised</td>\n      <td>0001493152-20-005442</td>\n      <td>20181231</td>\n      <td>0</td>\n      <td>CAD</td>\n      <td>0x4b60fcbdeab7194b6dd435301ffb8ca8</td>\n      <td>0</td>\n      <td>1.0</td>\n      <td>NaN</td>\n      <td>0</td>\n      <td>1</td>\n      <td>NaN</td>\n      <td>0.000000</td>\n      <td>0.0</td>\n      <td>32767</td>\n    </tr>\n    <tr>\n      <th>8154866</th>\n      <td>0001493152-20-005442</td>\n      <td>WitholdingTaxesPaidOnEquitysettledRestrictedSh...</td>\n      <td>0001493152-20-005442</td>\n      <td>20191231</td>\n      <td>4</td>\n      <td>CAD</td>\n      <td>0x00000000</td>\n      <td>0</td>\n      <td>-9000.0</td>\n      <td>NaN</td>\n      <td>0</td>\n      <td>0</td>\n      <td>NaN</td>\n      <td>0.010959</td>\n      <td>0.0</td>\n      <td>-3</td>\n    </tr>\n    <tr>\n      <th>8154867</th>\n      <td>0001493152-20-005442</td>\n      <td>WitholdingTaxesPaidOnEquitysettledRestrictedSh...</td>\n      <td>0001493152-20-005442</td>\n      <td>20181231</td>\n      <td>4</td>\n      <td>CAD</td>\n      <td>0x00000000</td>\n      <td>0</td>\n      <td>-7000.0</td>\n      <td>NaN</td>\n      <td>0</td>\n      <td>0</td>\n      <td>NaN</td>\n      <td>0.010959</td>\n      <td>0.0</td>\n      <td>-3</td>\n    </tr>\n    <tr>\n      <th>8154868</th>\n      <td>0001493152-20-005442</td>\n      <td>WorkingCapitalDeficiency</td>\n      <td>0001493152-20-005442</td>\n      <td>20191231</td>\n      <td>0</td>\n      <td>CAD</td>\n      <td>0x00000000</td>\n      <td>0</td>\n      <td>233000.0</td>\n      <td>NaN</td>\n      <td>0</td>\n      <td>0</td>\n      <td>NaN</td>\n      <td>0.000000</td>\n      <td>0.0</td>\n      <td>-3</td>\n    </tr>\n  </tbody>\n</table>\n<p>8154869 rows × 16 columns</p>\n</div>"
     },
     "metadata": {},
     "execution_count": 7
    }
   ],
   "source": [
    "dataset"
   ]
  },
  {
   "cell_type": "code",
   "execution_count": 8,
   "metadata": {},
   "outputs": [],
   "source": [
    "dataset['cik'] = dataset['adsh'].str.split(\"-\",expand =True)[0]"
   ]
  },
  {
   "cell_type": "code",
   "execution_count": 9,
   "metadata": {},
   "outputs": [],
   "source": [
    "tickersList = pd.read_csv('https://www.sec.gov/include/ticker.txt',header=None)"
   ]
  },
  {
   "cell_type": "code",
   "execution_count": 10,
   "metadata": {},
   "outputs": [],
   "source": [
    "tickersList[['ticker','cik']] = tickersList.iloc[:,0].str.split(\"\\t\",expand=True)\n",
    "del tickersList[ 0]\n",
    "tickersList['cik'] = tickersList['cik'].astype(str)\n",
    "tickersList['cik'] = tickersList['cik'].str.zfill(10)"
   ]
  },
  {
   "cell_type": "code",
   "execution_count": 11,
   "metadata": {},
   "outputs": [
    {
     "output_type": "execute_result",
     "data": {
      "text/plain": [
       "      ticker         cik\n",
       "0       aapl  0000320193\n",
       "1       msft  0000789019\n",
       "2       amzn  0001018724\n",
       "3       goog  0001652044\n",
       "4      tcehy  0001293451\n",
       "...      ...         ...\n",
       "11068  znteu  0001823652\n",
       "11069  zntew  0001823652\n",
       "11070  znogw  0001131312\n",
       "11071    zsl  0001415311\n",
       "11072  zwrku  0001828438\n",
       "\n",
       "[11073 rows x 2 columns]"
      ],
      "text/html": "<div>\n<style scoped>\n    .dataframe tbody tr th:only-of-type {\n        vertical-align: middle;\n    }\n\n    .dataframe tbody tr th {\n        vertical-align: top;\n    }\n\n    .dataframe thead th {\n        text-align: right;\n    }\n</style>\n<table border=\"1\" class=\"dataframe\">\n  <thead>\n    <tr style=\"text-align: right;\">\n      <th></th>\n      <th>ticker</th>\n      <th>cik</th>\n    </tr>\n  </thead>\n  <tbody>\n    <tr>\n      <th>0</th>\n      <td>aapl</td>\n      <td>0000320193</td>\n    </tr>\n    <tr>\n      <th>1</th>\n      <td>msft</td>\n      <td>0000789019</td>\n    </tr>\n    <tr>\n      <th>2</th>\n      <td>amzn</td>\n      <td>0001018724</td>\n    </tr>\n    <tr>\n      <th>3</th>\n      <td>goog</td>\n      <td>0001652044</td>\n    </tr>\n    <tr>\n      <th>4</th>\n      <td>tcehy</td>\n      <td>0001293451</td>\n    </tr>\n    <tr>\n      <th>...</th>\n      <td>...</td>\n      <td>...</td>\n    </tr>\n    <tr>\n      <th>11068</th>\n      <td>znteu</td>\n      <td>0001823652</td>\n    </tr>\n    <tr>\n      <th>11069</th>\n      <td>zntew</td>\n      <td>0001823652</td>\n    </tr>\n    <tr>\n      <th>11070</th>\n      <td>znogw</td>\n      <td>0001131312</td>\n    </tr>\n    <tr>\n      <th>11071</th>\n      <td>zsl</td>\n      <td>0001415311</td>\n    </tr>\n    <tr>\n      <th>11072</th>\n      <td>zwrku</td>\n      <td>0001828438</td>\n    </tr>\n  </tbody>\n</table>\n<p>11073 rows × 2 columns</p>\n</div>"
     },
     "metadata": {},
     "execution_count": 11
    }
   ],
   "source": [
    "tickersList"
   ]
  },
  {
   "cell_type": "code",
   "execution_count": 12,
   "metadata": {},
   "outputs": [],
   "source": [
    "result = pd.merge(tickersList, dataset, how=\"inner\", on=[\"cik\", \"cik\"])"
   ]
  },
  {
   "cell_type": "code",
   "execution_count": 14,
   "metadata": {},
   "outputs": [],
   "source": [
    "result.to_csv('allTickers.csv', encoding='utf-8', index=False)"
   ]
  },
  {
   "cell_type": "code",
   "execution_count": 15,
   "metadata": {},
   "outputs": [
    {
     "output_type": "execute_result",
     "data": {
      "text/plain": [
       "        ticker         cik                  adsh  \\\n",
       "0         aapl  0000320193  0000320193-20-000010   \n",
       "1         aapl  0000320193  0000320193-20-000010   \n",
       "2         aapl  0000320193  0000320193-20-000010   \n",
       "3         aapl  0000320193  0000320193-20-000010   \n",
       "4         aapl  0000320193  0000320193-20-000010   \n",
       "...        ...         ...                   ...   \n",
       "6077381    ctv  0000068622  0000068622-20-000004   \n",
       "6077382    ctv  0000068622  0000068622-20-000004   \n",
       "6077383    ctv  0000068622  0000068622-20-000004   \n",
       "6077384    ctv  0000068622  0000068622-20-000004   \n",
       "6077385    ctv  0000068622  0000068622-20-000004   \n",
       "\n",
       "                                                     tag  \\\n",
       "0                                 AccountsPayableCurrent   \n",
       "1                                 AccountsPayableCurrent   \n",
       "2                           AccountsReceivableNetCurrent   \n",
       "3                           AccountsReceivableNetCurrent   \n",
       "4        AccumulatedOtherComprehensiveIncomeLossNetOfTax   \n",
       "...                                                  ...   \n",
       "6077381                                 TaxReformPercent   \n",
       "6077382                TermLoanCovenantDebttoEBITDARatio   \n",
       "6077383          UniversalServiceFundsTaxesAndSurcharges   \n",
       "6077384          UniversalServiceFundsTaxesAndSurcharges   \n",
       "6077385          UniversalServiceFundsTaxesAndSurcharges   \n",
       "\n",
       "                      version     ddate  qtrs   uom  \\\n",
       "0                us-gaap/2019  20191231     0   USD   \n",
       "1                us-gaap/2019  20190930     0   USD   \n",
       "2                us-gaap/2019  20191231     0   USD   \n",
       "3                us-gaap/2019  20190930     0   USD   \n",
       "4                us-gaap/2019  20191231     0   USD   \n",
       "...                       ...       ...   ...   ...   \n",
       "6077381  0000068622-20-000004  20171231     4  pure   \n",
       "6077382  0000068622-20-000004  20191231     4  pure   \n",
       "6077383  0000068622-20-000004  20191231     4   USD   \n",
       "6077384  0000068622-20-000004  20181231     4   USD   \n",
       "6077385  0000068622-20-000004  20171231     4   USD   \n",
       "\n",
       "                                       dimh  iprx         value footnote  \\\n",
       "0                                0x00000000     0  4.511100e+10      NaN   \n",
       "1                                0x00000000     0  4.623600e+10      NaN   \n",
       "2                                0x00000000     0  2.097000e+10      NaN   \n",
       "3                                0x00000000     0  2.292600e+10      NaN   \n",
       "4                                0x00000000     0 -4.180000e+08      NaN   \n",
       "...                                     ...   ...           ...      ...   \n",
       "6077381                          0x00000000     0  3.100000e-01      NaN   \n",
       "6077382  0x513c2726e0bc48f4f25be4fee95bcfad     0  2.850000e+00      NaN   \n",
       "6077383                          0x00000000     0  1.250000e+08      NaN   \n",
       "6077384                          0x00000000     0  1.240000e+08      NaN   \n",
       "6077385                          0x00000000     0  1.340000e+08      NaN   \n",
       "\n",
       "         footlen  dimn coreg      durp  datp   dcml  \n",
       "0              0     0   NaN  0.000000   3.0     -6  \n",
       "1              0     0   NaN  0.000000   2.0     -6  \n",
       "2              0     0   NaN  0.000000   3.0     -6  \n",
       "3              0     0   NaN  0.000000   2.0     -6  \n",
       "4              0     0   NaN  0.000000   3.0     -6  \n",
       "...          ...   ...   ...       ...   ...    ...  \n",
       "6077381        0     0   NaN  0.010959   0.0      3  \n",
       "6077382        0     3   NaN  0.010959   0.0  32767  \n",
       "6077383        0     0   NaN  0.010959   0.0     -6  \n",
       "6077384        0     0   NaN  0.010959   0.0     -6  \n",
       "6077385        0     0   NaN  0.010959   0.0     -6  \n",
       "\n",
       "[6077386 rows x 18 columns]"
      ],
      "text/html": "<div>\n<style scoped>\n    .dataframe tbody tr th:only-of-type {\n        vertical-align: middle;\n    }\n\n    .dataframe tbody tr th {\n        vertical-align: top;\n    }\n\n    .dataframe thead th {\n        text-align: right;\n    }\n</style>\n<table border=\"1\" class=\"dataframe\">\n  <thead>\n    <tr style=\"text-align: right;\">\n      <th></th>\n      <th>ticker</th>\n      <th>cik</th>\n      <th>adsh</th>\n      <th>tag</th>\n      <th>version</th>\n      <th>ddate</th>\n      <th>qtrs</th>\n      <th>uom</th>\n      <th>dimh</th>\n      <th>iprx</th>\n      <th>value</th>\n      <th>footnote</th>\n      <th>footlen</th>\n      <th>dimn</th>\n      <th>coreg</th>\n      <th>durp</th>\n      <th>datp</th>\n      <th>dcml</th>\n    </tr>\n  </thead>\n  <tbody>\n    <tr>\n      <th>0</th>\n      <td>aapl</td>\n      <td>0000320193</td>\n      <td>0000320193-20-000010</td>\n      <td>AccountsPayableCurrent</td>\n      <td>us-gaap/2019</td>\n      <td>20191231</td>\n      <td>0</td>\n      <td>USD</td>\n      <td>0x00000000</td>\n      <td>0</td>\n      <td>4.511100e+10</td>\n      <td>NaN</td>\n      <td>0</td>\n      <td>0</td>\n      <td>NaN</td>\n      <td>0.000000</td>\n      <td>3.0</td>\n      <td>-6</td>\n    </tr>\n    <tr>\n      <th>1</th>\n      <td>aapl</td>\n      <td>0000320193</td>\n      <td>0000320193-20-000010</td>\n      <td>AccountsPayableCurrent</td>\n      <td>us-gaap/2019</td>\n      <td>20190930</td>\n      <td>0</td>\n      <td>USD</td>\n      <td>0x00000000</td>\n      <td>0</td>\n      <td>4.623600e+10</td>\n      <td>NaN</td>\n      <td>0</td>\n      <td>0</td>\n      <td>NaN</td>\n      <td>0.000000</td>\n      <td>2.0</td>\n      <td>-6</td>\n    </tr>\n    <tr>\n      <th>2</th>\n      <td>aapl</td>\n      <td>0000320193</td>\n      <td>0000320193-20-000010</td>\n      <td>AccountsReceivableNetCurrent</td>\n      <td>us-gaap/2019</td>\n      <td>20191231</td>\n      <td>0</td>\n      <td>USD</td>\n      <td>0x00000000</td>\n      <td>0</td>\n      <td>2.097000e+10</td>\n      <td>NaN</td>\n      <td>0</td>\n      <td>0</td>\n      <td>NaN</td>\n      <td>0.000000</td>\n      <td>3.0</td>\n      <td>-6</td>\n    </tr>\n    <tr>\n      <th>3</th>\n      <td>aapl</td>\n      <td>0000320193</td>\n      <td>0000320193-20-000010</td>\n      <td>AccountsReceivableNetCurrent</td>\n      <td>us-gaap/2019</td>\n      <td>20190930</td>\n      <td>0</td>\n      <td>USD</td>\n      <td>0x00000000</td>\n      <td>0</td>\n      <td>2.292600e+10</td>\n      <td>NaN</td>\n      <td>0</td>\n      <td>0</td>\n      <td>NaN</td>\n      <td>0.000000</td>\n      <td>2.0</td>\n      <td>-6</td>\n    </tr>\n    <tr>\n      <th>4</th>\n      <td>aapl</td>\n      <td>0000320193</td>\n      <td>0000320193-20-000010</td>\n      <td>AccumulatedOtherComprehensiveIncomeLossNetOfTax</td>\n      <td>us-gaap/2019</td>\n      <td>20191231</td>\n      <td>0</td>\n      <td>USD</td>\n      <td>0x00000000</td>\n      <td>0</td>\n      <td>-4.180000e+08</td>\n      <td>NaN</td>\n      <td>0</td>\n      <td>0</td>\n      <td>NaN</td>\n      <td>0.000000</td>\n      <td>3.0</td>\n      <td>-6</td>\n    </tr>\n    <tr>\n      <th>...</th>\n      <td>...</td>\n      <td>...</td>\n      <td>...</td>\n      <td>...</td>\n      <td>...</td>\n      <td>...</td>\n      <td>...</td>\n      <td>...</td>\n      <td>...</td>\n      <td>...</td>\n      <td>...</td>\n      <td>...</td>\n      <td>...</td>\n      <td>...</td>\n      <td>...</td>\n      <td>...</td>\n      <td>...</td>\n      <td>...</td>\n    </tr>\n    <tr>\n      <th>6077381</th>\n      <td>ctv</td>\n      <td>0000068622</td>\n      <td>0000068622-20-000004</td>\n      <td>TaxReformPercent</td>\n      <td>0000068622-20-000004</td>\n      <td>20171231</td>\n      <td>4</td>\n      <td>pure</td>\n      <td>0x00000000</td>\n      <td>0</td>\n      <td>3.100000e-01</td>\n      <td>NaN</td>\n      <td>0</td>\n      <td>0</td>\n      <td>NaN</td>\n      <td>0.010959</td>\n      <td>0.0</td>\n      <td>3</td>\n    </tr>\n    <tr>\n      <th>6077382</th>\n      <td>ctv</td>\n      <td>0000068622</td>\n      <td>0000068622-20-000004</td>\n      <td>TermLoanCovenantDebttoEBITDARatio</td>\n      <td>0000068622-20-000004</td>\n      <td>20191231</td>\n      <td>4</td>\n      <td>pure</td>\n      <td>0x513c2726e0bc48f4f25be4fee95bcfad</td>\n      <td>0</td>\n      <td>2.850000e+00</td>\n      <td>NaN</td>\n      <td>0</td>\n      <td>3</td>\n      <td>NaN</td>\n      <td>0.010959</td>\n      <td>0.0</td>\n      <td>32767</td>\n    </tr>\n    <tr>\n      <th>6077383</th>\n      <td>ctv</td>\n      <td>0000068622</td>\n      <td>0000068622-20-000004</td>\n      <td>UniversalServiceFundsTaxesAndSurcharges</td>\n      <td>0000068622-20-000004</td>\n      <td>20191231</td>\n      <td>4</td>\n      <td>USD</td>\n      <td>0x00000000</td>\n      <td>0</td>\n      <td>1.250000e+08</td>\n      <td>NaN</td>\n      <td>0</td>\n      <td>0</td>\n      <td>NaN</td>\n      <td>0.010959</td>\n      <td>0.0</td>\n      <td>-6</td>\n    </tr>\n    <tr>\n      <th>6077384</th>\n      <td>ctv</td>\n      <td>0000068622</td>\n      <td>0000068622-20-000004</td>\n      <td>UniversalServiceFundsTaxesAndSurcharges</td>\n      <td>0000068622-20-000004</td>\n      <td>20181231</td>\n      <td>4</td>\n      <td>USD</td>\n      <td>0x00000000</td>\n      <td>0</td>\n      <td>1.240000e+08</td>\n      <td>NaN</td>\n      <td>0</td>\n      <td>0</td>\n      <td>NaN</td>\n      <td>0.010959</td>\n      <td>0.0</td>\n      <td>-6</td>\n    </tr>\n    <tr>\n      <th>6077385</th>\n      <td>ctv</td>\n      <td>0000068622</td>\n      <td>0000068622-20-000004</td>\n      <td>UniversalServiceFundsTaxesAndSurcharges</td>\n      <td>0000068622-20-000004</td>\n      <td>20171231</td>\n      <td>4</td>\n      <td>USD</td>\n      <td>0x00000000</td>\n      <td>0</td>\n      <td>1.340000e+08</td>\n      <td>NaN</td>\n      <td>0</td>\n      <td>0</td>\n      <td>NaN</td>\n      <td>0.010959</td>\n      <td>0.0</td>\n      <td>-6</td>\n    </tr>\n  </tbody>\n</table>\n<p>6077386 rows × 18 columns</p>\n</div>"
     },
     "metadata": {},
     "execution_count": 15
    }
   ],
   "source": [
    "result"
   ]
  },
  {
   "cell_type": "code",
   "execution_count": 18,
   "metadata": {},
   "outputs": [],
   "source": [
    "li = list(result.cik.value_counts()) "
   ]
  },
  {
   "cell_type": "code",
   "execution_count": 19,
   "metadata": {},
   "outputs": [
    {
     "output_type": "stream",
     "name": "stdout",
     "text": [
      "No.of.unique values : 1981\n"
     ]
    }
   ],
   "source": [
    "print(\"No.of.unique values :\", \n",
    "      len(li))"
   ]
  },
  {
   "cell_type": "code",
   "execution_count": null,
   "metadata": {},
   "outputs": [],
   "source": []
  }
 ]
}